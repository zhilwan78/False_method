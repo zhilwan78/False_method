{
  "nbformat": 4,
  "nbformat_minor": 0,
  "metadata": {
    "colab": {
      "provenance": [],
      "authorship_tag": "ABX9TyN9gvQEUlpvLx811VV9xBlY",
      "include_colab_link": true
    },
    "kernelspec": {
      "name": "python3",
      "display_name": "Python 3"
    },
    "language_info": {
      "name": "python"
    }
  },
  "cells": [
    {
      "cell_type": "markdown",
      "metadata": {
        "id": "view-in-github",
        "colab_type": "text"
      },
      "source": [
        "<a href=\"https://colab.research.google.com/github/zhilwan78/False_method/blob/main/Untitled1.ipynb\" target=\"_parent\"><img src=\"https://colab.research.google.com/assets/colab-badge.svg\" alt=\"Open In Colab\"/></a>"
      ]
    },
    {
      "cell_type": "code",
      "execution_count": 1,
      "metadata": {
        "colab": {
          "base_uri": "https://localhost:8080/"
        },
        "id": "0dAGVrl5Jiqw",
        "outputId": "2b15ce97-2abd-4c37-8001-05a45499958e"
      },
      "outputs": [
        {
          "output_type": "stream",
          "name": "stdout",
          "text": [
            "the error remaining is 0.0320583685230631, after 9 iteration \n",
            "(the root approximately found at -1.5491634807361738\n",
            "-3\n"
          ]
        }
      ],
      "source": [
        "def false_Postion(func, a, b, error_accept):\n",
        "  def f(x):\n",
        "    f = eval(func)\n",
        "    return f\n",
        "\n",
        "\n",
        "  i=0\n",
        "  c_before = 0\n",
        "  c = (a * f(b) - b * f(a)) / (f(b) - f(a))\n",
        "  error = abs(c - c_before)\n",
        "\n",
        "  while error > error_accept:\n",
        "\n",
        "    c_after = (a * f(b) - b * f(a)) / (f(b) - f(a))\n",
        "\n",
        "    if  f(a) * f(b) >= 0:\n",
        "      print(\"there is no root\")\n",
        "      quit()\n",
        "\n",
        "      \n",
        "    elif  f(c_after) * f(a) < 0:\n",
        "      error = abs(c_after-b)\n",
        "      b = c_after\n",
        "      i = i+1\n",
        "\n",
        "\n",
        "    elif  f(c_after) * f(b) < 0:\n",
        "      error = abs(c_after-a)\n",
        "      a = c_after\n",
        "      i = i+1\n",
        "\n",
        "\n",
        "    else:\n",
        "      print(\"something wrong\")\n",
        "      quit()\n",
        "\n",
        "\n",
        "  print(f\"the error remaining is {error}, after {i} iteration \")   \n",
        "  print(f\"(the root approximately found at {c_after}\")\n",
        "\n",
        "\n",
        "\n",
        "\n",
        "\n",
        "\n",
        "false_Postion(\"((x**3) + 4) \", -3,1,0.05)"
      ]
    }
  ]
}